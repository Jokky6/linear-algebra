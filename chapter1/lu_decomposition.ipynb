{
 "cells": [
  {
   "cell_type": "code",
   "execution_count": null,
   "outputs": [],
   "source": [
    "import numpy as np\n",
    "\n",
    "def demp_lu(x):\n",
    "    if type(x) is not np.ndarray:\n",
    "        raise (\"x is not narray,it's {}\".format(type(x)))\n",
    "    length,y=x.shape([1]),x.copy()\n",
    "    inv_l=np.identity(length)\n",
    "    inv_l=elimination(inv_l=inv_l,shape_length=length,x=y)\n",
    "    return inv_l,y\n",
    "\n",
    "def elimination(inv_l,shape_length,x):\n",
    "    for i in range(0,shape_length-1):\n",
    "        for j in range(i+1,shape_length):\n",
    "            inv_l = calculation(square=inv_l,x=x,left_pointer=i,right_pointer=j)\n",
    "    return inv_l\n",
    "\n",
    "def calculation(square,x,left_pointer,right_pointer):\n",
    "    l_coef = x[right_pointer][left_pointer]/x[left_pointer][right_pointer]\n",
    "    x[right_pointer]=x[right_pointer]-l_coef*x[left_pointer]\n",
    "    e_ji=square\n",
    "    e_ji[right_pointer][left_pointer]=-l_coef\n",
    "    return np.dot(e_ji,square)"
   ],
   "metadata": {
    "collapsed": false,
    "pycharm": {
     "name": "#%%\n"
    }
   }
  }
 ],
 "metadata": {
  "kernelspec": {
   "display_name": "Python 3",
   "language": "python",
   "name": "python3"
  },
  "language_info": {
   "codemirror_mode": {
    "name": "ipython",
    "version": 2
   },
   "file_extension": ".py",
   "mimetype": "text/x-python",
   "name": "python",
   "nbconvert_exporter": "python",
   "pygments_lexer": "ipython2",
   "version": "2.7.6"
  }
 },
 "nbformat": 4,
 "nbformat_minor": 0
}