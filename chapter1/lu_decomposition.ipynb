{
 "cells": [
  {
   "cell_type": "code",
   "execution_count": 7,
   "outputs": [],
   "source": [
    "import numpy as np\n",
    "\n",
    "def decmp_lu(x):\n",
    "    if type(x) is not np.ndarray:\n",
    "        raise TypeError()\n",
    "    return elimination(x)\n",
    "\n",
    "def elimination(x):\n",
    "    shape_length=x.shape[1]\n",
    "    inv_l=np.identity(x.shape[1])\n",
    "    for i in range(0,shape_length-1):\n",
    "        for j in range(i+1,shape_length):\n",
    "            inv_l,x = calculation(square=inv_l,x=x,left_pointer=i,right_pointer=j)\n",
    "    return inv_l,x\n",
    "\n",
    "def calculation(square,x,left_pointer,right_pointer):\n",
    "    l_coef = x[right_pointer][left_pointer]/x[left_pointer][left_pointer]\n",
    "    x[right_pointer]=x[right_pointer]-l_coef*x[left_pointer]\n",
    "    e_ji=np.identity(x.shape[1])\n",
    "    e_ji[right_pointer][left_pointer]=-l_coef\n",
    "    return np.dot(e_ji,square),x"
   ],
   "metadata": {
    "collapsed": false,
    "pycharm": {
     "name": "#%%\n"
    }
   }
  },
  {
   "cell_type": "code",
   "execution_count": 8,
   "outputs": [],
   "source": [
    "def mask_zero(num):\n",
    "     return 0 if abs(num)<1e-5 else num"
   ],
   "metadata": {
    "collapsed": false,
    "pycharm": {
     "name": "#%%\n"
    }
   }
  },
  {
   "cell_type": "code",
   "execution_count": 9,
   "outputs": [
    {
     "name": "stdout",
     "output_type": "stream",
     "text": [
      "Below is the input 5*5 matrix A of Gaussian distribution with mean=0 and sd=5: \r\n",
      "[[ 2.48357077 -0.69132151  3.23844269  7.61514928 -1.17076687]\n",
      " [-1.17068478  7.89606408  3.83717365 -2.34737193  2.71280022]\n",
      " [-2.31708846 -2.32864877  1.20981136 -9.56640122 -8.62458916]\n",
      " [-2.81143765 -5.0641556   1.57123666 -4.54012038 -7.06151851]\n",
      " [ 7.32824384 -1.1288815   0.33764102 -7.12374093 -2.72191362]]\n",
      "\n",
      "\n",
      "Below is the inversed L after LU decomposistion:\r\n",
      "[[ 1.          0.          0.          0.          0.        ]\n",
      " [ 0.47137162  1.          0.          0.          0.        ]\n",
      " [ 1.11812482  0.39280741  1.          0.          0.        ]\n",
      " [-0.15865311  0.191017   -1.47991094  1.          0.        ]\n",
      " [-1.92133913  1.27834411 -4.54408049  4.12207635  1.        ]]\n",
      "\n",
      "\n",
      "Below is the U after LU decomposistion:\r\n",
      "[[ 2.48357077 -0.69132151  3.23844269  7.61514928 -1.17076687]\n",
      " [ 0.          7.57019474  5.36368364  1.24219335  2.16093394]\n",
      " [ 0.          0.          6.33806478 -1.97377886 -8.86804463]\n",
      " [ 0.          0.          0.          7.9607464   6.40604215]\n",
      " [ 0.          0.          0.          0.         13.0781277 ]]\n",
      "\n",
      "\n",
      "Below is the vector b on the right side of the equation:\r\n",
      "[[  2.77306474]\n",
      " [-28.77483944]\n",
      " [  9.39245046]\n",
      " [-15.01596725]\n",
      " [ -7.29234374]]\n"
     ]
    }
   ],
   "source": [
    "np.random.seed(42)\n",
    "A_decmp_test = 5*np.random.randn(5,5)\n",
    "b_decmp_test = 25*np.random.randn(5,1)\n",
    "print(\"Below is the input 5*5 matrix A of Gaussian distribution with mean=0 and sd=5: \\r\")\n",
    "print(A_decmp_test)\n",
    "vfunc_rnd = np.vectorize(lambda x: mask_zero(x))\n",
    "print(\"\\n\")\n",
    "print(\"Below is the inversed L after LU decomposistion:\\r\")\n",
    "print(vfunc_rnd(decmp_lu(A_decmp_test)[0]))\n",
    "print(\"\\n\")\n",
    "print(\"Below is the U after LU decomposistion:\\r\")\n",
    "print(vfunc_rnd(decmp_lu(A_decmp_test)[1]))\n",
    "print(\"\\n\")\n",
    "print(\"Below is the vector b on the right side of the equation:\\r\")\n",
    "print(b_decmp_test)"
   ],
   "metadata": {
    "collapsed": false,
    "pycharm": {
     "name": "#%%\n"
    }
   }
  }
 ],
 "metadata": {
  "kernelspec": {
   "display_name": "Python 3",
   "language": "python",
   "name": "python3"
  },
  "language_info": {
   "codemirror_mode": {
    "name": "ipython",
    "version": 2
   },
   "file_extension": ".py",
   "mimetype": "text/x-python",
   "name": "python",
   "nbconvert_exporter": "python",
   "pygments_lexer": "ipython2",
   "version": "2.7.6"
  }
 },
 "nbformat": 4,
 "nbformat_minor": 0
}